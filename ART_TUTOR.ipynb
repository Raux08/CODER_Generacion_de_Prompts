{
  "cells": [
    {
      "cell_type": "markdown",
      "metadata": {
        "id": "view-in-github",
        "colab_type": "text"
      },
      "source": [
        "<a href=\"https://colab.research.google.com/github/Raux08/CODER_Generacion_de_Prompts/blob/main/ART_TUTOR.ipynb\" target=\"_parent\"><img src=\"https://colab.research.google.com/assets/colab-badge.svg\" alt=\"Open In Colab\"/></a>"
      ]
    },
    {
      "cell_type": "markdown",
      "metadata": {
        "id": "Tce3stUlHN0L"
      },
      "source": [
        "##### RAURODART 2024"
      ]
    },
    {
      "cell_type": "markdown",
      "metadata": {
        "id": "-QhPWE1lwZHH"
      },
      "source": [
        "# Gemini API Python TEST"
      ]
    },
    {
      "cell_type": "markdown",
      "metadata": {
        "id": "kHkHARdb1ZID"
      },
      "source": [
        "## Install\n",
        "\n",
        "The Python SDK for the Gemini API is contained in the [`google-generativeai`](https://pypi.org/project/google-generativeai/) package. Install the dependency using pip:"
      ]
    },
    {
      "cell_type": "code",
      "execution_count": null,
      "metadata": {
        "id": "J6Pd9SFJ1yVi"
      },
      "outputs": [],
      "source": [
        "!pip install -q -U google-generativeai"
      ]
    },
    {
      "cell_type": "markdown",
      "metadata": {
        "id": "EeMCtmx9ykyx"
      },
      "source": [
        "## Set up your API key\n",
        "\n",
        "To use the Gemini API, you'll need an API key. If you don't already have one, create a key in Google AI Studio.\n",
        "\n",
        "<a class=\"button\" href=\"https://aistudio.google.com/app/apikey\" target=\"_blank\" rel=\"noopener noreferrer\">Get an API key</a>\n",
        "\n",
        "In Colab, add the key to the secrets manager under the \"🔑\" in the left panel. Give it the name `GOOGLE_API_KEY`. Then pass the key to the SDK:"
      ]
    },
    {
      "cell_type": "code",
      "execution_count": null,
      "metadata": {
        "id": "HTiaTu6O1LRC"
      },
      "outputs": [],
      "source": [
        "# Import the Python SDK\n",
        "import google.generativeai as genai\n",
        "# Used to securely store your API key\n",
        "from google.colab import userdata\n",
        "\n",
        "GOOGLE_API_KEY=userdata.get('GOOGLE_API_KEY')\n",
        "genai.configure(api_key=GOOGLE_API_KEY)"
      ]
    },
    {
      "cell_type": "markdown",
      "metadata": {
        "id": "CZPYk29o2No0"
      },
      "source": [
        "## Initialize the Generative Model\n",
        "\n",
        "Before you can make any API calls, you need to initialize the Generative Model."
      ]
    },
    {
      "cell_type": "code",
      "execution_count": null,
      "metadata": {
        "id": "s-JqXcDe2hZ_"
      },
      "outputs": [],
      "source": [
        "model = genai.GenerativeModel('gemini-pro')"
      ]
    },
    {
      "cell_type": "markdown",
      "metadata": {
        "id": "nXxypzJH4MUl"
      },
      "source": [
        "## Generate text"
      ]
    },
    {
      "cell_type": "code",
      "execution_count": null,
      "metadata": {
        "id": "j51mcrLD4Y2W",
        "outputId": "b7a3dcaf-c76e-4d5b-af42-e484acfb20c0",
        "colab": {
          "base_uri": "https://localhost:8080/",
          "height": 317
        }
      },
      "outputs": [
        {
          "output_type": "stream",
          "name": "stdout",
          "text": [
            "¿En qué te puedo ayudar hoy? (o escribe 'salir' para terminar) que artista tenia un bigote excentrico\n",
            "Salvador Dalí\n",
            "¿En qué te puedo ayudar hoy? (o escribe 'salir' para terminar) dame tips de direccion de arte para una publicidad de carros\n",
            "**Consejos de Dirección de Arte para Publicidad de Automóviles**\n",
            "\n",
            "* **Enfatiza la emoción y el dinamismo:** Transmite la emoción de conducir al capturar el movimiento, la velocidad y la agilidad del automóvil.\n",
            "* **Usa imágenes llamativas:** Elige imágenes que atraigan la atención y evoquen una respuesta emocional, como un hermoso paisaje, un camino sinuoso o un conductor sonriente.\n",
            "* **Incorpora elementos de estilo de vida:** Muestra cómo el automóvil se integra en la vida diaria de las personas, destacando su practicidad, comodidad y conveniencia.\n",
            "* **Utiliza una paleta de colores impactante:** Los colores vibrantes y contrastantes pueden crear un efecto visual llamativo y hacer que el anuncio destaque.\n",
            "* **Fortalece el mensaje de marca:** Asegura que la dirección de arte esté alineada con la identidad de la marca, comunicando sus valores y personalidad.\n",
            "* **Cuenta una historia:** Crea un anuncio que cuente una historia sobre la experiencia de conducir o poseer el automóvil, conectando con las emociones del público.\n",
            "* **Usa el espacio negativo sabiamente:** El espacio vacío alrededor del automóvil puede crear una sensación de drama y destacar sus características.\n",
            "* **Experimento con ángulos y perspectivas inusuales:** Adopta ángulos únicos o perspectivas dramáticas para hacer que el automóvil se destaque y generar interés.\n",
            "* **Considera el formato:** Ten en cuenta el formato de anuncio (impreso, digital, video) y adapta tu dirección de arte en consecuencia.\n",
            "* **Colabora con un equipo talentoso:** Rodéate de un equipo de fotógrafos, estilistas y diseñadores expertos para garantizar una ejecución excepcional.\n"
          ]
        }
      ],
      "source": [
        "# Initialize the model\n",
        "model = genai.GenerativeModel('gemini-pro')\n",
        "\n",
        "context = \"Eres un gran artista y director de arte con alta trayectoria, alto conocimientos de historia del arte y del diseño gráfico. Tu tarea es responder a las preguntas que se te haga de estos temas\"\n",
        "\n",
        "while True:\n",
        "  kind_of_artist = input(\"¿En qué te puedo ayudar hoy? (o escribe 'salir' para terminar) \")\n",
        "  if kind_of_artist.lower() == 'salir':\n",
        "    break\n",
        "\n",
        "  # Generate response using the model and context\n",
        "  response = model.generate_content(\n",
        "      f\"{context} {kind_of_artist}\"\n",
        "  )\n",
        "\n",
        "  # Access the generated text from the response object\n",
        "  print(response.text)"
      ]
    }
  ],
  "metadata": {
    "colab": {
      "provenance": [],
      "include_colab_link": true
    },
    "kernelspec": {
      "display_name": "Python 3",
      "name": "python3"
    }
  },
  "nbformat": 4,
  "nbformat_minor": 0
}