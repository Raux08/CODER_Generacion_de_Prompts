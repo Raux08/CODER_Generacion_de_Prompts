{
 "cells": [
  {
   "cell_type": "markdown",
   "id": "f48d1e4f-5bf0-4291-9f10-e4fa452dfee6",
   "metadata": {},
   "source": [
    "1. Import openAI dependences (load with conda install openai)"
   ]
  },
  {
   "cell_type": "code",
   "execution_count": 20,
   "id": "6f5e6bba-f9b0-4d27-a0c2-ceede346e2fd",
   "metadata": {
    "scrolled": true
   },
   "outputs": [],
   "source": [
    "\n",
    "#Import openAI dependences (module)\n",
    "import openai"
   ]
  },
  {
   "cell_type": "markdown",
   "id": "6180968b-5de0-4e1d-91e1-bb0607b62ebe",
   "metadata": {},
   "source": [
    "2. Use the API Key from openAI page"
   ]
  },
  {
   "cell_type": "code",
   "execution_count": 21,
   "id": "aaa13f6c-6aee-4ddd-92b7-33dbbf66ea3c",
   "metadata": {},
   "outputs": [],
   "source": [
    "#Add our API Key copied from openAI page\n",
    "openai.api_key = \"" #Example -> dw-bQyr9128F49VJRNKAnST32lbkFJ2Zv4qEhWo4R0Xh6yrh15"
   ]
  },
  {
   "cell_type": "markdown",
   "id": "133396b5-0a78-4b9a-a1c0-8c81d7744f9b",
   "metadata": {},
   "source": [
    "3. Make a request"
   ]
  },
  {
   "cell_type": "code",
   "execution_count": 22,
   "id": "f7c1fc76-a9ea-4df9-9324-d83bba8bfc0c",
   "metadata": {
    "scrolled": true
   },
   "outputs": [],
   "source": [
    "#Make the context of our prompt envoirement\n",
    "context = 'Eres una persona presente en la converzacion que no envia mensajes pero observa atentamente. Una vez enviada la converzacion, debes ejecutar un resumen del mismo para alguien que no estuvo presente'\n",
    "\n",
    "#prompt (text/user's question)\n",
    "prompt = \"\"\"\n",
    "Martín: Chicos, ¿ya vieron el último episodio de \"Los Anillos de Poder\"?\n",
    "Sofía: ¡Sí! Lo vi anoche. Tengo sentimientos encontrados sobre cómo están desarrollando la historia.\n",
    "Carlos: Yo también. Por un lado, me encanta ver la Segunda Edad en pantalla, pero por otro, siento que se están tomando demasiadas libertades con el material original.\n",
    "Elena: Exacto. La forma en que están representando a ciertos personajes no coincide con lo que Tolkien escribió. Especialmente con Galadriel.\n",
    "Martín: Hablando de Galadriel, ¿no les parece que la están mostrando demasiado agresiva? En los libros, aunque es poderosa, también es muy sabia y serena.\n",
    "Sofía: Estoy de acuerdo. Parece más una guerrera que la elfa noble y reflexiva que conocemos. Quizás están tratando de mostrar su evolución, pero siento que se desvía mucho.\n",
    "Carlos: También me preocupa cómo están manejando la línea temporal. Están condensando eventos que en realidad sucedieron en miles de años.\n",
    "Elena: Sí, eso puede confundir a quienes no están familiarizados con la historia profunda de la Tierra Media. Además, ciertos eventos pierden peso al no respetar el tiempo que requieren.\n",
    "Martín: Por otro lado, la ambientación y los efectos visuales son impresionantes. Númenor se ve exactamente como lo imaginaba.\n",
    "Sofía: Totalmente. La dirección de arte es impecable. Los paisajes, los vestuarios, todo es muy detallado y fiel en ese aspecto.\n",
    "Carlos: Pero la serie depende no solo de lo visual. La esencia de la obra de Tolkien está en su narrativa y en los temas profundos que aborda.\n",
    "Elena: Exactamente. Espero que en los próximos episodios profundicen más en esos temas y se apeguen más al espíritu original.\n",
    "Martín: ¿Qué opinan de los Harfoots? Algunos dicen que están ahí solo para atraer a los fans de los hobbits.\n",
    "Sofía: Puede ser, pero también tienen su lugar en la historia. Aunque su inclusión y ciertas tramas parecen un poco forzadas.\n",
    "Carlos: Y el misterio del Extraño que cae del cielo. ¿Creen que es un Istari?\n",
    "Elena: Es posible, pero eso también sería alterar el canon, ya que los Istari llegaron en la Tercera Edad.\n",
    "Martín: Al final, creo que debemos verla como una interpretación libre inspirada en el mundo de Tolkien.\n",
    "Sofía: Sí, quizás si ajustamos nuestras expectativas, podamos disfrutarla más sin estar comparando constantemente.\n",
    "Carlos: Tienes razón. Aunque como aficionados y conocedores, es difícil no notar las discrepancias.\n",
    "Elena: Lo importante es que está generando interés en la obra de Tolkien y quizás motive a más personas a leer los libros.\n",
    "Martín: Eso sería fantástico. Bueno, esperemos que los próximos episodios nos sorprendan positivamente.\n",
    "Sofía: ¡Así es! Estaré atenta para seguir discutiendo.\n",
    "Carlos: Yo también. Siempre es un placer compartir opiniones con ustedes.\n",
    "Elena: Igualmente, chicos. ¡Hasta la próxima conversación!\n",
    "\"\"\""
   ]
  },
  {
   "cell_type": "markdown",
   "id": "a42ce140-d99c-492e-ad64-9de2719ea75e",
   "metadata": {},
   "source": [
    "4. Settings"
   ]
  },
  {
   "cell_type": "code",
   "execution_count": 23,
   "id": "1ce51fc0-ce3e-4db1-8ab5-4d9447252af9",
   "metadata": {},
   "outputs": [
    {
     "name": "stdout",
     "output_type": "stream",
     "text": [
      "assistant: En la conversación, Martín, Sofía, Carlos y Elena discutieron sobre el último episodio de \"Los Anillos de Poder\". Tuvieron sentimientos encontrados: aunque disfrutaron de ver la Segunda Edad en pantalla y destacaron la impresionante ambientación y efectos visuales, expresaron críticas sobre la representación de personajes y la gestión de la línea temporal. Galadriel fue un punto de debate, ya que la consideran demasiado agresiva comparada con la versión sabia y serena de los libros. También comentaron sobre la inclusión de los Harfoots y el misterio de un personaje llamado el Extraño. Al final, concluyeron que sería mejor ajustar sus expectativas y ver la serie como una interpretación libre inspirada en el mundo de Tolkien.\n"
     ]
    }
   ],
   "source": [
    "# Make the request\n",
    "conversation = [\n",
    "    {\"role\": \"system\", \"content\": context},\n",
    "    {\"role\": \"user\", \"content\": prompt}\n",
    "]\n",
    "\n",
    "response = openai.ChatCompletion.create(\n",
    "    model='gpt-4o',\n",
    "    messages=conversation,\n",
    "    max_tokens=200\n",
    ")\n",
    "\n",
    "message = response.choices[0]['message']\n",
    "print(\"{}: {}\".format(message['role'], message['content']))"
   ]
  },
  {
   "cell_type": "markdown",
   "id": "1e57d4c6-d1aa-48fc-80dd-530bfcebab65",
   "metadata": {},
   "source": [
    "5. Storage the response in any variable"
   ]
  },
  {
   "cell_type": "code",
   "execution_count": 24,
   "id": "abb2ce41-0dc8-46f9-8137-aca58604bcbf",
   "metadata": {},
   "outputs": [
    {
     "name": "stdout",
     "output_type": "stream",
     "text": [
      "El resumen de dicha converzacion es: En la conversación, Martín, Sofía, Carlos y Elena discutieron sobre el último episodio de \"Los Anillos de Poder\". Tuvieron sentimientos encontrados: aunque disfrutaron de ver la Segunda Edad en pantalla y destacaron la impresionante ambientación y efectos visuales, expresaron críticas sobre la representación de personajes y la gestión de la línea temporal. Galadriel fue un punto de debate, ya que la consideran demasiado agresiva comparada con la versión sabia y serena de los libros. También comentaron sobre la inclusión de los Harfoots y el misterio de un personaje llamado el Extraño. Al final, concluyeron que sería mejor ajustar sus expectativas y ver la serie como una interpretación libre inspirada en el mundo de Tolkien.\n"
     ]
    }
   ],
   "source": [
    "#Storage the response in a variable to use it\n",
    "primer_converzacion = response['choices'][0]['message']['content'].strip()\n",
    "\n",
    "#Use the variable\n",
    "print(\"El resumen de dicha converzacion es:\", primer_converzacion)\n"
   ]
  },
  {
   "cell_type": "code",
   "execution_count": null,
   "id": "319a0bbc-0af1-4006-aea0-78dc22675505",
   "metadata": {},
   "outputs": [],
   "source": []
  }
 ],
 "metadata": {
  "kernelspec": {
   "display_name": "Python 3 (ipykernel)",
   "language": "python",
   "name": "python3"
  },
  "language_info": {
   "codemirror_mode": {
    "name": "ipython",
    "version": 3
   },
   "file_extension": ".py",
   "mimetype": "text/x-python",
   "name": "python",
   "nbconvert_exporter": "python",
   "pygments_lexer": "ipython3",
   "version": "3.9.19"
  }
 },
 "nbformat": 4,
 "nbformat_minor": 5
}
