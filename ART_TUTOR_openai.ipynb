{
  "cells": [
    {
      "cell_type": "markdown",
      "metadata": {
        "id": "view-in-github",
        "colab_type": "text"
      },
      "source": [
        "<a href=\"https://colab.research.google.com/github/Raux08/CODER_Generacion_de_Prompts/blob/main/ART_TUTOR_openai.ipynb\" target=\"_parent\"><img src=\"https://colab.research.google.com/assets/colab-badge.svg\" alt=\"Open In Colab\"/></a>"
      ]
    },
    {
      "cell_type": "markdown",
      "metadata": {
        "id": "Tce3stUlHN0L"
      },
      "source": [
        "##### RAURODART 2024"
      ]
    },
    {
      "cell_type": "markdown",
      "metadata": {
        "id": "-QhPWE1lwZHH"
      },
      "source": [
        "# ENTREGA 2 / CODER"
      ]
    },
    {
      "cell_type": "markdown",
      "source": [
        "**Introducción:**"
      ],
      "metadata": {
        "id": "IKirJ8X0DvlK"
      }
    },
    {
      "cell_type": "markdown",
      "source": [
        "El proyecto busca desarrollar un asistente basado en IA para ayudar a artistas y diseñadores gráficos a superar bloqueos creativos y mejorar su productividad. Los creativos enfrentan dificultades para generar ideas frescas debido a la saturación de contenido y las demandas de innovación constante. Esta herramienta ofrecerá soluciones creativas inmediatas a través de prompts, facilitando la generación de ideas y la inspiración."
      ],
      "metadata": {
        "id": "cFpKs9UsDMIQ"
      }
    },
    {
      "cell_type": "markdown",
      "source": [
        "**Problema:**"
      ],
      "metadata": {
        "id": "6JwwI6hODewb"
      }
    },
    {
      "cell_type": "markdown",
      "source": [
        "La solución consiste en desarrollar un asistente que, mediante la API de OpenAI, responda de forma interactiva a preguntas o bloqueos creativos de los usuarios. Los prompts ayudarán a generar ideas originales, ofrecer recomendaciones de estilo y proporcionar referencias visuales. Esto permite a los creativos ahorrar tiempo y mejorar sus procesos."
      ],
      "metadata": {
        "id": "P4WLAaUsDm52"
      }
    },
    {
      "cell_type": "markdown",
      "source": [
        "**Viabilidad del Proyecto:**"
      ],
      "metadata": {
        "id": "X0mIJKMIED8K"
      }
    },
    {
      "cell_type": "markdown",
      "source": [
        "La viabilidad técnica del proyecto está garantizada por el acceso a modelos avanzados como GPT-4, que permiten generar respuestas creativas en tiempo real. El proyecto es factible en términos de tiempo y recursos, ya que la integración de la API de OpenAI requiere un desarrollo moderado. Se estima que el desarrollo inicial puede completarse en unas pocas semanas."
      ],
      "metadata": {
        "id": "kgmpS_P2EGAs"
      }
    },
    {
      "cell_type": "markdown",
      "source": [
        "**Objetivos:**"
      ],
      "metadata": {
        "id": "sH41KHK4ER7D"
      }
    },
    {
      "cell_type": "markdown",
      "source": [
        "Crear un asistente IA para apoyar a artistas y diseñadores gráficos.\n",
        "Facilitar la generación de ideas visuales y conceptuales.\n",
        "Mejorar la productividad optimizando los tiempos de trabajo creativo.\n",
        "Proporcionar una interfaz fácil de usar."
      ],
      "metadata": {
        "id": "7xP5PXmIEW0L"
      }
    },
    {
      "cell_type": "markdown",
      "source": [
        "**Metodología:**"
      ],
      "metadata": {
        "id": "qWmgHoEtEe7y"
      }
    },
    {
      "cell_type": "markdown",
      "source": [
        "El proyecto seguirá varias etapas:\n",
        "\n",
        "Investigación de bloqueos creativos.\n",
        "Desarrollo de un prototipo con prompts personalizados.\n",
        "Pruebas y retroalimentación de usuarios.\n",
        "Iteración para mejorar los resultados."
      ],
      "metadata": {
        "id": "wFWHNpl0ErP2"
      }
    },
    {
      "cell_type": "markdown",
      "source": [
        "**Herramientas y Tecnologías:**"
      ],
      "metadata": {
        "id": "coVwEWv8GAyX"
      }
    },
    {
      "cell_type": "markdown",
      "source": [
        "El asistente se desarrollará usando la API de OpenAI (GPT-4) para generar respuestas basadas en prompts detallados. Se utilizará Python para la implementación y herramientas como Google Colab o Jupyter Notebook para pruebas."
      ],
      "metadata": {
        "id": "2u4G7OhuGGCM"
      }
    },
    {
      "cell_type": "markdown",
      "source": [
        "**Implementación:**"
      ],
      "metadata": {
        "id": "JBvUpFdxGLG8"
      }
    },
    {
      "cell_type": "markdown",
      "source": [
        "El asistente utilizará código sencillo para interactuar con los usuarios. El siguiente es un ejemplo de código:"
      ],
      "metadata": {
        "id": "95scMGoiGPY2"
      }
    },
    {
      "cell_type": "markdown",
      "metadata": {
        "id": "kHkHARdb1ZID"
      },
      "source": [
        "## Install\n",
        "\n",
        "Instala la librería de OpenAI:"
      ]
    },
    {
      "cell_type": "code",
      "source": [
        "!pip install openai"
      ],
      "metadata": {
        "colab": {
          "base_uri": "https://localhost:8080/"
        },
        "id": "FYNg3XSn2wbF",
        "outputId": "9c76f16f-8a8b-42bd-8c20-0cdda1d22bd7"
      },
      "execution_count": null,
      "outputs": [
        {
          "output_type": "stream",
          "name": "stdout",
          "text": [
            "Requirement already satisfied: openai in /usr/local/lib/python3.10/dist-packages (1.45.0)\n",
            "Requirement already satisfied: anyio<5,>=3.5.0 in /usr/local/lib/python3.10/dist-packages (from openai) (3.7.1)\n",
            "Requirement already satisfied: distro<2,>=1.7.0 in /usr/lib/python3/dist-packages (from openai) (1.7.0)\n",
            "Requirement already satisfied: httpx<1,>=0.23.0 in /usr/local/lib/python3.10/dist-packages (from openai) (0.27.2)\n",
            "Requirement already satisfied: jiter<1,>=0.4.0 in /usr/local/lib/python3.10/dist-packages (from openai) (0.5.0)\n",
            "Requirement already satisfied: pydantic<3,>=1.9.0 in /usr/local/lib/python3.10/dist-packages (from openai) (2.9.1)\n",
            "Requirement already satisfied: sniffio in /usr/local/lib/python3.10/dist-packages (from openai) (1.3.1)\n",
            "Requirement already satisfied: tqdm>4 in /usr/local/lib/python3.10/dist-packages (from openai) (4.66.5)\n",
            "Requirement already satisfied: typing-extensions<5,>=4.11 in /usr/local/lib/python3.10/dist-packages (from openai) (4.12.2)\n",
            "Requirement already satisfied: idna>=2.8 in /usr/local/lib/python3.10/dist-packages (from anyio<5,>=3.5.0->openai) (3.8)\n",
            "Requirement already satisfied: exceptiongroup in /usr/local/lib/python3.10/dist-packages (from anyio<5,>=3.5.0->openai) (1.2.2)\n",
            "Requirement already satisfied: certifi in /usr/local/lib/python3.10/dist-packages (from httpx<1,>=0.23.0->openai) (2024.8.30)\n",
            "Requirement already satisfied: httpcore==1.* in /usr/local/lib/python3.10/dist-packages (from httpx<1,>=0.23.0->openai) (1.0.5)\n",
            "Requirement already satisfied: h11<0.15,>=0.13 in /usr/local/lib/python3.10/dist-packages (from httpcore==1.*->httpx<1,>=0.23.0->openai) (0.14.0)\n",
            "Requirement already satisfied: annotated-types>=0.6.0 in /usr/local/lib/python3.10/dist-packages (from pydantic<3,>=1.9.0->openai) (0.7.0)\n",
            "Requirement already satisfied: pydantic-core==2.23.3 in /usr/local/lib/python3.10/dist-packages (from pydantic<3,>=1.9.0->openai) (2.23.3)\n"
          ]
        }
      ]
    },
    {
      "cell_type": "markdown",
      "metadata": {
        "id": "EeMCtmx9ykyx"
      },
      "source": [
        "## Set up your API key\n",
        "\n",
        "Importa la librería y configura tu clave API:"
      ]
    },
    {
      "cell_type": "code",
      "execution_count": null,
      "metadata": {
        "id": "HTiaTu6O1LRC",
        "colab": {
          "base_uri": "https://localhost:8080/"
        },
        "outputId": "1c70696e-6883-4545-fe56-d3cdacc71912"
      },
      "outputs": [
        {
          "name": "stdout",
          "output_type": "stream",
          "text": [
            "¿En qué te puedo ayudar hoy? (o escribe 'salir' para terminar) Hola que tal\n",
            "Hola, ¿en qué puedo ayudarte hoy en relación al arte, la publicidad o el diseño gráfico?\n",
            "¿En qué te puedo ayudar hoy? (o escribe 'salir' para terminar) Cual es el color pantone para 2024\n",
            "Hasta la fecha de mi conocimiento en octubre de 2023, Pantone no ha anunciado oficialmente el Color del Año para 2024. La selección del Color del Año por Pantone suele anunciarse a finales del año anterior, por lo que deberíamos esperar dicha información cerca de diciembre de 2023. Te recomendaría estar atento a los comunicados oficiales de Pantone para obtener esta información.\n",
            "¿En qué te puedo ayudar hoy? (o escribe 'salir' para terminar) Ok entiendo, entonces te pregunto por un artista excentrico que tiene un bigote llamativo, como se llama\n",
            "El artista excéntrico con un bigote llamativo al que te refieres es muy probablemente Salvador Dalí. Dalí fue un famoso pintor surrealista español conocido tanto por su obra artística como por su personalidad extravagante, incluyendo su distintivo bigote retorcido.\n",
            "¿En qué te puedo ayudar hoy? (o escribe 'salir' para terminar) salir\n"
          ]
        }
      ],
      "source": [
        "import openai\n",
        "import os\n",
        "import time # Import the time module\n",
        "\n",
        "# Configura tu clave API\n",
        "from google.colab import userdata\n",
        "userdata.get('API_CODER')\n",
        "openai.api_key = userdata.get('API_CODER')\n",
        "\n",
        "# Configura la API\n",
        "import openai\n",
        "\n",
        "while True:\n",
        "  kind_of_artist = input(\"¿En qué te puedo ayudar hoy? (o escribe 'salir' para terminar) \")\n",
        "  if kind_of_artist.lower() == 'salir':\n",
        "    break\n",
        "\n",
        "  # Generate response using the model and context\n",
        "  # Use openai.chat.completions.create instead of openai.ChatCompletion.create\n",
        "  response = openai.chat.completions.create(\n",
        "      model=\"gpt-4o\",\n",
        "      messages=[\n",
        "          {\"role\": \"system\", \"content\": \"Eres un gran artista y director de arte con alta trayectoria, altos conocimientos artísticos, publicitarios y diseño gráfico. Tu tarea es responder solamente a las preguntas que te hagan sobre estos temas\"},\n",
        "          {\"role\": \"user\", \"content\": kind_of_artist}\n",
        "      ]\n",
        "  )\n",
        "\n",
        "  # Mostrar el resultado\n",
        "  print(response.choices[0].message.content.strip())\n",
        "\n",
        "  time.sleep(1) # Wait for 1 second before the next request"
      ]
    }
  ],
  "metadata": {
    "colab": {
      "provenance": [],
      "include_colab_link": true
    },
    "kernelspec": {
      "display_name": "Python 3",
      "name": "python3"
    }
  },
  "nbformat": 4,
  "nbformat_minor": 0
}